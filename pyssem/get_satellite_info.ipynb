{
 "cells": [
  {
   "cell_type": "code",
   "execution_count": 2,
   "metadata": {},
   "outputs": [],
   "source": [
    "import requests\n",
    "from requests.auth import HTTPBasicAuth\n",
    "import pandas as pd\n",
    "\n",
    "# Space-Track credentials\n",
    "username = \"ivesely@mit.edu\"\n",
    "password = \"schrodingersCat!1sP\"\n",
    "\n",
    "\n",
    "# SATCAT query for all active satellites\n",
    "url = \"https://www.space-track.org/basicspacedata/query/class/satcat/OBJECT_TYPE/PAYLOAD/orderby/LAUNCH_DATE desc\"\n",
    "\n"
   ]
  },
  {
   "cell_type": "code",
   "execution_count": 4,
   "metadata": {},
   "outputs": [
    {
     "name": "stdout",
     "output_type": "stream",
     "text": [
      "❌ Login failed! Error: 401\n"
     ]
    }
   ],
   "source": [
    "import requests\n",
    "import pandas as pd\n",
    "\n",
    "# Space-Track credentials\n",
    "username = \"your_username\"\n",
    "password = \"your_password\"\n",
    "\n",
    "# Start a session\n",
    "session = requests.Session()\n",
    "\n",
    "# Login payload\n",
    "login_url = \"https://www.space-track.org/ajaxauth/login\"\n",
    "login_payload = {\n",
    "    'identity': username,\n",
    "    'password': password\n",
    "}\n",
    "\n",
    "# Authenticate\n",
    "login_response = session.post(login_url, data=login_payload)\n",
    "\n",
    "if login_response.status_code == 200:\n",
    "    print(\"✅ Login successful!\")\n",
    "    \n",
    "    # Define SATCAT query\n",
    "    url = \"https://www.space-track.org/basicspacedata/query/class/satcat/OBJECT_TYPE/PAYLOAD/orderby/LAUNCH_DATE desc/format/json\"\n",
    "\n",
    "    # Fetch data\n",
    "    response = session.get(url)\n",
    "\n",
    "    if response.status_code == 200:\n",
    "        sat_data = response.json()\n",
    "\n",
    "        # Convert to DataFrame for easier analysis\n",
    "        df = pd.DataFrame(sat_data)\n",
    "        print(df.head())  # Display first few rows\n",
    "    else:\n",
    "        print(f\"⚠️ Error fetching SATCAT data: {response.status_code}\")\n",
    "\n",
    "else:\n",
    "    print(f\"❌ Login failed! Error: {login_response.status_code}\")\n"
   ]
  },
  {
   "cell_type": "code",
   "execution_count": 6,
   "metadata": {},
   "outputs": [
    {
     "name": "stdout",
     "output_type": "stream",
     "text": [
      "Failed to fetch SATCAT data. Status code: 401\n",
      "Failed to fetch TLE data. Status code: 204\n"
     ]
    }
   ],
   "source": [
    "import requests\n",
    "\n",
    "# API credentials\n",
    "username = \"ivesely@mit.edu\"\n",
    "password = \"schrodingersCat!1sP\"\n",
    "\n",
    "# Base URL for Space-Track API\n",
    "base_url = \"https://www.space-track.org\"\n",
    "\n",
    "# SATCAT API endpoint\n",
    "satcat_endpoint = \"/basicspacedata/query/class/satcat/INTDES/{satellite_intdes}/orderby/SATNAME/format/json\"\n",
    "\n",
    "# TLE API endpoint\n",
    "tle_endpoint = \"/basicspacedata/query/class/tle_latest/NORAD_CAT_ID/{norad_cat_id}/orderby/EPOCH desc/limit/1/format/tle\"\n",
    "\n",
    "# Function to fetch SATCAT data\n",
    "def fetch_satcat_data(satellite_intdes):\n",
    "    # Construct the API request URL\n",
    "    url = base_url + satcat_endpoint.replace(\"{satellite_intdes}\", satellite_intdes)\n",
    "\n",
    "    # Send GET request with authentication\n",
    "    response = requests.get(url, auth=(username, password))\n",
    "\n",
    "    # Check if the request was successful\n",
    "    if response.status_code == 200:\n",
    "        data = response.json()\n",
    "        # Process the data as needed\n",
    "        return data\n",
    "    else:\n",
    "        print(\"Failed to fetch SATCAT data. Status code:\", response.status_code)\n",
    "        return None\n",
    "\n",
    "# Function to fetch TLE data\n",
    "def fetch_tle_data(norad_cat_id):\n",
    "    # Construct the API request URL\n",
    "    url = base_url + tle_endpoint.replace(\"{norad_cat_id}\", norad_cat_id)\n",
    "\n",
    "    # Send GET request with authentication\n",
    "    response = requests.get(url, auth=(username, password))\n",
    "\n",
    "    # Check if the request was successful\n",
    "    if response.status_code == 200:\n",
    "        data = response.text\n",
    "        # Process the data as needed\n",
    "        return data\n",
    "    else:\n",
    "        print(\"Failed to fetch TLE data. Status code:\", response.status_code)\n",
    "        return None\n",
    "\n",
    "# Example usage\n",
    "satellite_intdes = \"ISS\"\n",
    "satcat_data = fetch_satcat_data(satellite_intdes)\n",
    "if satcat_data:\n",
    "    print(\"SATCAT data for\", satellite_intdes, \":\", satcat_data)\n",
    "\n",
    "norad_cat_id = \"25544\"\n",
    "tle_data = fetch_tle_data(norad_cat_id)\n",
    "if tle_data:\n",
    "    print(\"TLE data for NORAD ID\", norad_cat_id, \":\", tle_data)\n"
   ]
  },
  {
   "cell_type": "code",
   "execution_count": null,
   "metadata": {},
   "outputs": [],
   "source": []
  }
 ],
 "metadata": {
  "kernelspec": {
   "display_name": "anacondaEnv",
   "language": "python",
   "name": "python3"
  },
  "language_info": {
   "codemirror_mode": {
    "name": "ipython",
    "version": 3
   },
   "file_extension": ".py",
   "mimetype": "text/x-python",
   "name": "python",
   "nbconvert_exporter": "python",
   "pygments_lexer": "ipython3",
   "version": "3.8.19"
  }
 },
 "nbformat": 4,
 "nbformat_minor": 2
}
