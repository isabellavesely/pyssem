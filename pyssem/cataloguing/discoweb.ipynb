{
 "cells": [
  {
   "cell_type": "code",
   "execution_count": 3,
   "metadata": {},
   "outputs": [],
   "source": [
    "from pprint import pprint\n",
    "import requests\n",
    "import time\n",
    "from datetime import datetime\n",
    "import pandas as pd\n",
    "import numpy as np\n",
    "import matplotlib.pyplot as plt"
   ]
  },
  {
   "cell_type": "markdown",
   "metadata": {},
   "source": [
    "#### Get Discosweb data"
   ]
  },
  {
   "cell_type": "code",
   "execution_count": null,
   "metadata": {},
   "outputs": [
    {
     "name": "stdout",
     "output_type": "stream",
     "text": [
      "Total Pages: 25\n"
     ]
    }
   ],
   "source": [
    "# JUST FIRST PAGE\n",
    "\n",
    "URL = 'https://discosweb.esoc.esa.int'\n",
    "token = 'ImI5MjBiMzM2LTk2ZjktNDA0ZC1hZGFiLTNjMmFiZjc4NGFkYSI.0_k20tZIVHaaq-89tngta3rmZd0'\n",
    "\n",
    "headers = {\n",
    "    'Authorization': f'Bearer {token}',\n",
    "    'DiscosWeb-Api-Version': '2',\n",
    "}\n",
    "\n",
    "params = {\n",
    "    'filter': \"eq(objectClass,Payload)&gt(reentry.epoch,epoch:'2020-01-01')\",\n",
    "    'sort': '-reentry.epoch',\n",
    "    'page[size]': '100',\n",
    "    'page[number]': '1'\n",
    "}\n",
    "\n",
    "response = requests.get(f\"{URL}/api/objects\", headers=headers, params=params)\n",
    "\n",
    "# Check if request was successful\n",
    "if response.status_code == 200:\n",
    "    data = response.json()\n",
    "    total_pages = data['meta']['pagination']['totalPages']\n",
    "    print(f\"Total Pages: {total_pages}\")\n",
    "    \n",
    "all_data = data['data']"
   ]
  },
  {
   "cell_type": "code",
   "execution_count": null,
   "metadata": {},
   "outputs": [
    {
     "name": "stdout",
     "output_type": "stream",
     "text": [
      "Total Pages: 28\n",
      "Now fetching page 2/28...\n",
      "Now fetching page 3/28...\n",
      "Now fetching page 4/28...\n",
      "Now fetching page 5/28...\n",
      "Now fetching page 6/28...\n",
      "Now fetching page 7/28...\n",
      "Now fetching page 8/28...\n",
      "Now fetching page 9/28...\n",
      "Now fetching page 10/28...\n",
      "Now fetching page 11/28...\n",
      "Now fetching page 12/28...\n",
      "Now fetching page 13/28...\n",
      "Now fetching page 14/28...\n",
      "Now fetching page 15/28...\n",
      "Now fetching page 16/28...\n",
      "Now fetching page 17/28...\n",
      "Now fetching page 18/28...\n",
      "Now fetching page 19/28...\n",
      "Now fetching page 20/28...\n",
      "\n",
      "Rate limit handling: Pausing for 60 seconds...\n",
      "\n",
      "Now fetching page 21/28...\n",
      "Now fetching page 22/28...\n",
      "Now fetching page 23/28...\n",
      "Now fetching page 24/28...\n",
      "Now fetching page 25/28...\n",
      "Now fetching page 26/28...\n",
      "Now fetching page 27/28...\n",
      "Now fetching page 28/28...\n",
      "Total objects retrieved: 2767\n"
     ]
    }
   ],
   "source": [
    "# DISCOSWEB, filter\n",
    "URL = 'https://discosweb.esoc.esa.int'\n",
    "token = 'ImI5MjBiMzM2LTk2ZjktNDA0ZC1hZGFiLTNjMmFiZjc4NGFkYSI.0_k20tZIVHaaq-89tngta3rmZd0'\n",
    "# Dan's ESA API token^\n",
    "\n",
    "headers = {\n",
    "    'Authorization': f'Bearer {token}',\n",
    "    'DiscosWeb-Api-Version': '2',\n",
    "}\n",
    "\n",
    "params = {\n",
    "    # 'filter': \"eq(objectClass,Payload)&gt(reentry.epoch,epoch:'2020-01-01')\",\n",
    "    'filter': \"gt(reentry.epoch,epoch:'2024-01-01')\",\n",
    "    'sort': '-reentry.epoch',\n",
    "    'page[size]': '100',\n",
    "    'page[number]': '1'\n",
    "}\n",
    "\n",
    "response = requests.get(f\"{URL}/api/objects\", headers=headers, params=params)\n",
    "\n",
    "# Check if request was successful\n",
    "if response.status_code == 200:\n",
    "    data = response.json()\n",
    "    total_pages = data['meta']['pagination']['totalPages']\n",
    "    print(f\"Total Pages: {total_pages}\")\n",
    "\n",
    "# Store all results\n",
    "discos_data = data['data']\n",
    "\n",
    "# Fetch remaining pages in batches of 20 to avoid the rate limits\n",
    "for page in range(2, total_pages + 1):\n",
    "    if page > 1 and (page - 1) % 20 == 0:  # Every 20 pages, pause for 60 seconds\n",
    "        print(\"\\nRate limit handling: Pausing for 60 seconds...\\n\")\n",
    "        time.sleep(60)\n",
    "\n",
    "    print(f\"Now fetching page {page}/{total_pages}...\")\n",
    "\n",
    "    params['page[number]'] = str(page)\n",
    "    response = requests.get(f\"{URL}/api/objects\", headers=headers, params=params)\n",
    "\n",
    "    if response.status_code == 200:\n",
    "        new_data = response.json()['data']\n",
    "        discos_data.extend(new_data)  # Append new results\n",
    "    else:\n",
    "        print(f\"!!! Oh no, error fetching page {page}: {response.status_code}\")\n",
    "        break  # Stop fetching if an error occurs\n",
    "\n",
    "print(f\"Total objects retrieved: {len(discos_data)}\")"
   ]
  },
  {
   "cell_type": "code",
   "execution_count": null,
   "metadata": {},
   "outputs": [
    {
     "name": "stdout",
     "output_type": "stream",
     "text": [
      "[{'type': 'object', 'id': '66167', 'attributes': {'cosparId': '2021-012AS', 'vimpelId': None, 'satno': 47660, 'name': 'Starlink 2044', 'objectClass': 'Payload', 'mass': 260.0, 'shape': 'Box + 1 Pan', 'width': 3.7, 'height': 0.1, 'depth': 1.5, 'diameter': None, 'span': 8.86, 'xSectMax': 23.657, 'xSectMin': 0.2311, 'xSectAvg': 13.5615, 'firstEpoch': '2021-02-22', 'mission': 'Commercial Communications', 'predDecayDate': None, 'active': False, 'cataloguedFragments': 0, 'onOrbitCataloguedFragments': 0}, 'relationships': {'launch': {'links': {'self': '/api/objects/66167/relationships/launch', 'related': '/api/objects/66167/launch'}}, 'reentry': {'links': {'self': '/api/objects/66167/relationships/reentry', 'related': '/api/objects/66167/reentry'}}, 'initialOrbits': {'links': {'self': '/api/objects/66167/relationships/initial-orbits', 'related': '/api/objects/66167/initial-orbits'}}, 'destinationOrbits': {'links': {'self': '/api/objects/66167/relationships/destination-orbits', 'related': '/api/objects/66167/destination-orbits'}}, 'states': {'links': {'self': '/api/objects/66167/relationships/states', 'related': '/api/objects/66167/states'}}, 'operators': {'links': {'self': '/api/objects/66167/relationships/operators', 'related': '/api/objects/66167/operators'}}, 'tags': {'links': {'self': '/api/objects/66167/relationships/tags', 'related': '/api/objects/66167/tags'}}, 'constellations': {'links': {'self': '/api/objects/66167/relationships/constellations', 'related': '/api/objects/66167/constellations'}}}, 'links': {'self': '/api/objects/66167'}}, {'type': 'object', 'id': '77076', 'attributes': {'cosparId': '2023-037R', 'vimpelId': None, 'satno': 55929, 'name': 'Starlink 5898', 'objectClass': 'Payload', 'mass': 305.0, 'shape': 'Box + 1 Pan', 'width': 2.8, 'height': 0.2, 'depth': 2.8, 'diameter': None, 'span': 9.0, 'xSectMax': 27.592107631237894, 'xSectMin': 0.5599999999999999, 'xSectAvg': 11.087466666666666, 'firstEpoch': '2023-03-22', 'mission': 'Commercial Communications', 'predDecayDate': None, 'active': False, 'cataloguedFragments': 0, 'onOrbitCataloguedFragments': 0}, 'relationships': {'launch': {'links': {'self': '/api/objects/77076/relationships/launch', 'related': '/api/objects/77076/launch'}}, 'reentry': {'links': {'self': '/api/objects/77076/relationships/reentry', 'related': '/api/objects/77076/reentry'}}, 'initialOrbits': {'links': {'self': '/api/objects/77076/relationships/initial-orbits', 'related': '/api/objects/77076/initial-orbits'}}, 'destinationOrbits': {'links': {'self': '/api/objects/77076/relationships/destination-orbits', 'related': '/api/objects/77076/destination-orbits'}}, 'states': {'links': {'self': '/api/objects/77076/relationships/states', 'related': '/api/objects/77076/states'}}, 'operators': {'links': {'self': '/api/objects/77076/relationships/operators', 'related': '/api/objects/77076/operators'}}, 'tags': {'links': {'self': '/api/objects/77076/relationships/tags', 'related': '/api/objects/77076/tags'}}, 'constellations': {'links': {'self': '/api/objects/77076/relationships/constellations', 'related': '/api/objects/77076/constellations'}}}, 'links': {'self': '/api/objects/77076'}}, {'type': 'object', 'id': '65524', 'attributes': {'cosparId': '2020-088AK', 'vimpelId': None, 'satno': 47155, 'name': 'Starlink 1869', 'objectClass': 'Payload', 'mass': 260.0, 'shape': 'Box + 1 Pan', 'width': 3.7, 'height': 0.1, 'depth': 1.5, 'diameter': None, 'span': 8.86, 'xSectMax': 23.657, 'xSectMin': 0.2311, 'xSectAvg': 13.5615, 'firstEpoch': '2020-12-01', 'mission': 'Commercial Communications', 'predDecayDate': None, 'active': False, 'cataloguedFragments': 0, 'onOrbitCataloguedFragments': 0}, 'relationships': {'launch': {'links': {'self': '/api/objects/65524/relationships/launch', 'related': '/api/objects/65524/launch'}}, 'reentry': {'links': {'self': '/api/objects/65524/relationships/reentry', 'related': '/api/objects/65524/reentry'}}, 'initialOrbits': {'links': {'self': '/api/objects/65524/relationships/initial-orbits', 'related': '/api/objects/65524/initial-orbits'}}, 'destinationOrbits': {'links': {'self': '/api/objects/65524/relationships/destination-orbits', 'related': '/api/objects/65524/destination-orbits'}}, 'states': {'links': {'self': '/api/objects/65524/relationships/states', 'related': '/api/objects/65524/states'}}, 'operators': {'links': {'self': '/api/objects/65524/relationships/operators', 'related': '/api/objects/65524/operators'}}, 'tags': {'links': {'self': '/api/objects/65524/relationships/tags', 'related': '/api/objects/65524/tags'}}, 'constellations': {'links': {'self': '/api/objects/65524/relationships/constellations', 'related': '/api/objects/65524/constellations'}}}, 'links': {'self': '/api/objects/65524'}}]\n",
      "DISCOS data number of objects: 2767\n",
      "DISCOS data with NORAD satno: 2601 / 2767 (94.0%)\n",
      "Sample objectClass values from DISCOS:\n",
      "objectClass\n",
      "Payload                           1432\n",
      "Payload Fragmentation Debris       635\n",
      "Rocket Fragmentation Debris        251\n",
      "Rocket Body                        139\n",
      "Rocket Mission Related Object       81\n",
      "Payload Mission Related Object      28\n",
      "Rocket Debris                       20\n",
      "Payload Debris                       6\n",
      "Unknown                              5\n",
      "Other Mission Related Object         4\n",
      "Name: count, dtype: int64\n"
     ]
    }
   ],
   "source": [
    "# discos -- treat as truth data for: NORAD ID, cosparID (launch yr), width, height, mass, object class\n",
    "print(discos_data[:3])  # Print first 3 objects\n",
    "\n",
    "discos_attrs = [entry[\"attributes\"] for entry in discos_data if \"attributes\" in entry]\n",
    "satnos = [entry[\"satno\"] for entry in discos_attrs]\n",
    "\n",
    "seen = set()\n",
    "dedup_discos = []\n",
    "for entry in discos_attrs:\n",
    "    satno = entry[\"satno\"]\n",
    "    if satno not in seen:\n",
    "        seen.add(satno)\n",
    "        dedup_discos.append(entry)\n",
    "\n",
    "# Convert to DataFrame\n",
    "discos_df = pd.DataFrame(dedup_discos)\n",
    "print(f\"DISCOS data number of objects: {len(discos_data)}\")\n",
    "print(f\"DISCOS data with NORAD satno: {len(dedup_discos)} / {len(discos_data)} ({len(dedup_discos)/len(discos_data)*100:.1f}%)\")\n",
    "\n",
    "\n",
    "print(\"Sample objectClass values from DISCOS:\")\n",
    "print(discos_df[\"objectClass\"].value_counts(dropna=False))"
   ]
  },
  {
   "cell_type": "code",
   "execution_count": null,
   "metadata": {},
   "outputs": [
    {
     "data": {
      "text/plain": [
       "2767"
      ]
     },
     "execution_count": 21,
     "metadata": {},
     "output_type": "execute_result"
    }
   ],
   "source": [
    "discos_df.to_pickle('discos_df.pkl')"
   ]
  },
  {
   "cell_type": "code",
   "execution_count": 12,
   "metadata": {},
   "outputs": [
    {
     "name": "stdout",
     "output_type": "stream",
     "text": [
      "🔍 Object Classes in DISCOS API Response: {'Rocket Body', 'Payload', 'Unknown', 'Payload Mission Related Object', 'Rocket Mission Related Object', 'Payload Debris', 'Rocket Debris', 'Payload Fragmentation Debris', 'Other Mission Related Object', 'Rocket Fragmentation Debris'}\n"
     ]
    },
    {
     "data": {
      "text/plain": [
       "2767"
      ]
     },
     "execution_count": 12,
     "metadata": {},
     "output_type": "execute_result"
    }
   ],
   "source": [
    "all_object_classes = set(obj['attributes'].get('objectClass', 'Unknown') for obj in all_data)\n",
    "print(\"🔍 Object Classes in DISCOS API Response:\", all_object_classes)\n",
    "len(discos_data) # number discos objects\n"
   ]
  },
  {
   "cell_type": "markdown",
   "metadata": {},
   "source": [
    "#### Combine DISCOS with TLE data"
   ]
  },
  {
   "cell_type": "code",
   "execution_count": null,
   "metadata": {},
   "outputs": [
    {
     "name": "stdout",
     "output_type": "stream",
     "text": [
      "TLE source:  spacetrack_TLE_01_01-03_2025_MEO.csv\n",
      "TLE data total rows (with duplicates): 96611\n",
      "TLE data CSV headers:\n",
      "CCSDS_OMM_VERS, COMMENT, CREATION_DATE, ORIGINATOR, OBJECT_NAME, OBJECT_ID, CENTER_NAME, REF_FRAME, TIME_SYSTEM, MEAN_ELEMENT_THEORY, EPOCH, MEAN_MOTION, ECCENTRICITY, INCLINATION, RA_OF_ASC_NODE, ARG_OF_PERICENTER, MEAN_ANOMALY, EPHEMERIS_TYPE, CLASSIFICATION_TYPE, NORAD_CAT_ID, ELEMENT_SET_NO, REV_AT_EPOCH, BSTAR, MEAN_MOTION_DOT, MEAN_MOTION_DDOT, SEMIMAJOR_AXIS, PERIOD, APOAPSIS, PERIAPSIS, OBJECT_TYPE, RCS_SIZE, COUNTRY_CODE, LAUNCH_DATE, SITE, DECAY_DATE, FILE, GP_ID, TLE_LINE0, TLE_LINE1, TLE_LINE2\n",
      "TLE Data: 19607 unique satellites loaded.\n"
     ]
    }
   ],
   "source": [
    "# Define Earth radius (km)\n",
    "R_EARTH_KM = 6378.137\n",
    "\n",
    "# Space-track.org TLE as CSV file from query:\n",
    "# NEW:\n",
    "# https://www.space-track.org/basicspacedata/query/class/gp_history/EPOCH/2024-01-01--2025-01-03/DECAY_DATE/null-val/MEAN_MOTION/>3/orderby/NORAD_CAT_ID/format/csv\n",
    "# OLD: \n",
    "# https://www.space-track.org/basicspacedata/query/class/gp_history/EPOCH/2023-01-01--2023-01-03/DECAY_DATE/null-val/MEAN_MOTION/>3/orderby/NORAD_CAT_ID/format/csv\n",
    "# NOTE: any more than 3 days result in error to download (too big a file?)\n",
    "#       Above query: history of TLE's (GP) for epoch between 1/1/23 - 1/3/23, active sats, mean motion > 3 revs/day\n",
    "# API info: https://www.space-track.org/documentation#/api\n",
    "# API info on gp_history object: https://www.space-track.org/basicspacedata/modeldef/class/gp_history/format/html\n",
    "# Data definition follows CCSDS Recommended Standard 502.0-B-2: https://public.ccsds.org/Pubs/502x0b2c1e2.pdf\n",
    "\n",
    "# Load TLE Data from Space-Track\n",
    "tle_filename = \"spacetrack_TLE_01_01-03_2025_MEO.csv\"\n",
    "# UPDATE TO 2025\n",
    "tle_data = pd.read_csv(tle_filename)\n",
    "\n",
    "print(f\"TLE source:  {tle_filename}\")\n",
    "print(f\"TLE data total rows (with duplicates): {len(tle_data)}\")\n",
    "print(\"TLE data CSV headers:\")\n",
    "print(\", \".join(tle_data.columns))\n",
    "\n",
    "# Remove temporary IDs (NORAD_CAT_ID > 80000)\n",
    "tle_data = tle_data[tle_data[\"NORAD_CAT_ID\"] <= 80000]\n",
    "\n",
    "# Filter to grab only the latest TLE per object\n",
    "tle_data = (tle_data\n",
    "            .sort_values(\"EPOCH\")\n",
    "            .drop_duplicates(subset=[\"NORAD_CAT_ID\"], keep=\"last\"))\n",
    "print(f\"TLE Data: {tle_data.shape[0]} unique satellites loaded.\")"
   ]
  },
  {
   "cell_type": "code",
   "execution_count": null,
   "metadata": {},
   "outputs": [
    {
     "data": {
      "text/plain": [
       "2601"
      ]
     },
     "execution_count": 18,
     "metadata": {},
     "output_type": "execute_result"
    }
   ],
   "source": [
    "tle_data.to_pickle('tle_df.pkl')"
   ]
  },
  {
   "cell_type": "code",
   "execution_count": null,
   "metadata": {},
   "outputs": [
    {
     "name": "stdout",
     "output_type": "stream",
     "text": [
      "DISCOS data number of objects: 2601\n",
      "DISCOS data headers:\n",
      "['cosparId', 'vimpelId', 'satno', 'name', 'objectClass', 'mass', 'shape', 'width', 'height', 'depth', 'diameter', 'span', 'xSectMax', 'xSectMin', 'xSectAvg', 'firstEpoch', 'mission', 'predDecayDate', 'active', 'cataloguedFragments', 'onOrbitCataloguedFragments']\n",
      "2600 / 2601 DISCOS data has NORAD satellite number (100.0%)\n",
      "Removing 1 DISCOS objects without NORAD IDs\n",
      "0 duplicate entries found in DISCOS data; removing...\n"
     ]
    }
   ],
   "source": [
    "# attrs_df = discos_df.copy()\n",
    "\n",
    "# # ——— Report initial size & headers ———\n",
    "# print(f\"DISCOS data number of objects: {len(attrs_df)}\")\n",
    "# print(\"DISCOS data headers:\")\n",
    "# print(attrs_df.columns.tolist())\n",
    "\n",
    "# # ——— Filter to only rows with a NORAD ID (‘satno’) ———\n",
    "# has_satno = attrs_df['satno'].notna()\n",
    "# print(f\"{has_satno.sum()} / {len(attrs_df)} DISCOS data has NORAD satellite number \"\n",
    "#       f\"({has_satno.sum()/len(attrs_df)*100:.1f}%)\")\n",
    "# print(f\"Removing {len(attrs_df) - has_satno.sum()} DISCOS objects without NORAD IDs\")\n",
    "# attrs_df = attrs_df[has_satno].copy()\n",
    "\n",
    "# # ——— Convert satno to int for consistency ———\n",
    "# attrs_df['satno'] = attrs_df['satno'].astype(int)\n",
    "\n",
    "# # ——— Identify & drop duplicates (keep first) ———\n",
    "# num_before = len(attrs_df)\n",
    "# attrs_df = attrs_df.drop_duplicates(subset=['satno'], keep='first').reset_index(drop=True)\n",
    "# num_after = len(attrs_df)\n",
    "# print(f\"{num_before - num_after} duplicate entries found in DISCOS data; removing...\")\n",
    "\n",
    "# # ——— Final clean DataFrame ———\n",
    "# clean_discos_df = attrs_df\n"
   ]
  },
  {
   "cell_type": "code",
   "execution_count": null,
   "metadata": {},
   "outputs": [
    {
     "ename": "NameError",
     "evalue": "name 'merged_df' is not defined",
     "output_type": "error",
     "traceback": [
      "\u001b[0;31m---------------------------------------------------------------------------\u001b[0m",
      "\u001b[0;31mNameError\u001b[0m                                 Traceback (most recent call last)",
      "Cell \u001b[0;32mIn[10], line 1\u001b[0m\n\u001b[0;32m----> 1\u001b[0m tle_satnos \u001b[38;5;241m=\u001b[39m \u001b[43mmerged_df\u001b[49m[\u001b[38;5;124m\"\u001b[39m\u001b[38;5;124mNORAD_CAT_ID\u001b[39m\u001b[38;5;124m\"\u001b[39m]\u001b[38;5;241m.\u001b[39mvalues\n\u001b[1;32m      2\u001b[0m discos_satnos \u001b[38;5;241m=\u001b[39m discos_df[\u001b[38;5;124m\"\u001b[39m\u001b[38;5;124msatno\u001b[39m\u001b[38;5;124m\"\u001b[39m]\u001b[38;5;241m.\u001b[39mvalues\n\u001b[1;32m      4\u001b[0m \u001b[38;5;66;03m# # Check which TLE satnos are in DISCOS\u001b[39;00m\n\u001b[1;32m      5\u001b[0m \u001b[38;5;66;03m# in_discos_mask = np.isin(tle_satnos, discos_satnos)\u001b[39;00m\n\u001b[1;32m      6\u001b[0m \u001b[38;5;66;03m# missing_satnos = tle_satnos[~in_discos_mask]\u001b[39;00m\n\u001b[0;32m   (...)\u001b[0m\n\u001b[1;32m     29\u001b[0m \u001b[38;5;66;03m# print(f\"\\nPercentage without any size info: {100 * ind_no_size.sum() / len(matched):.1f}%\")\u001b[39;00m\n\u001b[1;32m     30\u001b[0m \u001b[38;5;66;03m# print(f\"Percentage without any size NOR mass: {100 * ind_no_size_nor_mass.sum() / len(matched):.1f}%\")\u001b[39;00m\n",
      "\u001b[0;31mNameError\u001b[0m: name 'merged_df' is not defined"
     ]
    }
   ],
   "source": [
    "# tle_satnos = merged_df[\"NORAD_CAT_ID\"].values\n",
    "# discos_satnos = discos_df[\"satno\"].values\n",
    "\n",
    "# # # Check which TLE satnos are in DISCOS\n",
    "# # in_discos_mask = np.isin(tle_satnos, discos_satnos)\n",
    "# # missing_satnos = tle_satnos[~in_discos_mask]\n",
    "\n",
    "# # print(f\"{len(missing_satnos)} of {len(tle_satnos)} TLE objects are missing from DISCOS ({len(missing_satnos)/len(tle_satnos)*100:.1f}%)\")\n",
    "\n",
    "# # print(\"LAUNCH DATE\")\n",
    "# # missing_tle_entries = merged_df[merged_df[\"NORAD_CAT_ID\"].isin(missing_satnos)].copy()\n",
    "# # missing_tle_entries[\"LAUNCH_DATE\"] = pd.to_datetime(missing_tle_entries[\"LAUNCH_DATE\"], errors=\"coerce\")\n",
    "\n",
    "# # post_t_missing = missing_tle_entries[missing_tle_entries[\"LAUNCH_DATE\"].dt.year > 2020]\n",
    "# # print(f\"{len(post_t_missing)} of {len(missing_satnos)} missing-from-DISCOS TLE objects were launched after 2020\")\n",
    "# # print(f\"That’s {len(post_t_missing)/len(missing_satnos)*100:.1f}% of the missing set.\")\n",
    "\n",
    "\n",
    "# # matched = discos_df[discos_df[\"satno\"].isin(tle_satnos)].copy()\n",
    "# # print(f\"Percentage of NORAD DISCOS objects ({len(matched)}) with following attributes:\")\n",
    "\n",
    "# # ind_no_size = ~(\n",
    "# #     matched[\"xSectAvg\"].notna() | matched[\"diameter\"].notna() | matched[\"span\"].notna() |\n",
    "# #     matched[\"width\"].notna() | matched[\"depth\"].notna() | matched[\"height\"].notna()\n",
    "# # )\n",
    "\n",
    "# # ind_no_size_nor_mass = ind_no_size & matched[\"mass\"].isna()\n",
    "\n",
    "# # print(f\"\\nPercentage without any size info: {100 * ind_no_size.sum() / len(matched):.1f}%\")\n",
    "# # print(f\"Percentage without any size NOR mass: {100 * ind_no_size_nor_mass.sum() / len(matched):.1f}%\")\n"
   ]
  },
  {
   "cell_type": "code",
   "execution_count": 8,
   "metadata": {},
   "outputs": [],
   "source": [
    "# # NO LONGER NEEEDED# Load SATCAT data for active/inactive flag\n",
    "# # Load the CSV file from CelesTrack\n",
    "# # https://www.celestrak.com/pub/satcat.csv \n",
    "# satcat_filename = \"satcat_03_12_2025.csv\"\n",
    "# satcat_data = pd.read_csv(satcat_filename)\n",
    "# \"\"\"\n",
    "# Columns: Index(['OBJECT_NAME', 'OBJECT_ID', 'NORAD_CAT_ID', 'OBJECT_TYPE',\n",
    "#        'OPS_STATUS_CODE', 'OWNER', 'LAUNCH_DATE', 'LAUNCH_SITE', 'DECAY_DATE',\n",
    "#        'PERIOD', 'INCLINATION', 'APOGEE', 'PERIGEE', 'RCS', 'DATA_STATUS_CODE',\n",
    "#        'ORBIT_CENTER', 'ORBIT_TYPE', 'ACTIVE'],\n",
    "#       dtype='object')\n",
    "# \"\"\"\n",
    "\n",
    "# active_flags = [\"+\", \"P\", \"B\", \"S\", \"X\"]  # Active satellites\n",
    "# inactive_flags = [\"?\", \"-\", \"D\"]  # Inactive satellites\n",
    "\n",
    "# satcat_data[\"ACTIVE\"] = satcat_data[\"OPS_STATUS_CODE\"].apply(lambda x: 1 if x in active_flags else 0)\n",
    "# satcat_add = satcat_data[['OWNER',\"ACTIVE\", \"NORAD_CAT_ID\"]]\n",
    "# merged_df = tle_data.merge(satcat_add, how=\"left\", on=\"NORAD_CAT_ID\")\n",
    "# len(merged_df)"
   ]
  },
  {
   "cell_type": "code",
   "execution_count": null,
   "metadata": {},
   "outputs": [
    {
     "name": "stderr",
     "output_type": "stream",
     "text": [
      "/var/folders/9y/hnc2c1bs54b27pqfzbnxv55r0000gn/T/ipykernel_14363/1580232939.py:1: SettingWithCopyWarning: \n",
      "A value is trying to be set on a copy of a slice from a DataFrame.\n",
      "Try using .loc[row_indexer,col_indexer] = value instead\n",
      "\n",
      "See the caveats in the documentation: https://pandas.pydata.org/pandas-docs/stable/user_guide/indexing.html#returning-a-view-versus-a-copy\n",
      "  post_t_missing[\"LAUNCH_DATE\"] = pd.to_datetime(post_t_missing[\"LAUNCH_DATE\"], errors=\"coerce\")\n",
      "/var/folders/9y/hnc2c1bs54b27pqfzbnxv55r0000gn/T/ipykernel_14363/1580232939.py:2: SettingWithCopyWarning: \n",
      "A value is trying to be set on a copy of a slice from a DataFrame.\n",
      "Try using .loc[row_indexer,col_indexer] = value instead\n",
      "\n",
      "See the caveats in the documentation: https://pandas.pydata.org/pandas-docs/stable/user_guide/indexing.html#returning-a-view-versus-a-copy\n",
      "  post_t_missing[\"ACTIVE\"] = post_t_missing[\"ACTIVE\"].fillna(0).astype(bool)\n"
     ]
    },
    {
     "data": {
      "image/png": "[encoded data removed]",
      "text/plain": [
       "<Figure size 1000x400 with 1 Axes>"
      ]
     },
     "metadata": {},
     "output_type": "display_data"
    }
   ],
   "source": [
    "# post_t_missing[\"LAUNCH_DATE\"] = pd.to_datetime(post_t_missing[\"LAUNCH_DATE\"], errors=\"coerce\")\n",
    "# post_t_missing[\"ACTIVE\"] = post_t_missing[\"ACTIVE\"].fillna(0).astype(bool)\n",
    "\n",
    "# # Split into active and inactive\n",
    "# active_dates = post_t_missing[post_t_missing[\"ACTIVE\"]][\"LAUNCH_DATE\"].dropna()\n",
    "# inactive_dates = post_t_missing[~post_t_missing[\"ACTIVE\"]][\"LAUNCH_DATE\"].dropna()\n",
    "\n",
    "# # Plot\n",
    "# plt.figure(figsize=(10, 4))\n",
    "# plt.hist([inactive_dates, active_dates], bins=30, stacked=True,\n",
    "#          label=[\"Inactive or Unknown\", \"Active\"], color=[\"gray\", \"green\"], edgecolor=\"black\")\n",
    "\n",
    "# plt.title(\"Launch Date Distribution (Post-2023 TLEs Missing from DISCOS)\")\n",
    "# plt.xlabel(\"Launch Date\")\n",
    "# plt.ylabel(\"Number of Satellites\")\n",
    "# plt.xticks(rotation=45)\n",
    "# plt.legend()\n",
    "# plt.grid(True)\n",
    "# plt.tight_layout()\n",
    "# plt.show()\n"
   ]
  },
  {
   "cell_type": "code",
   "execution_count": null,
   "metadata": {},
   "outputs": [],
   "source": [
    "# def objclass2int(objclass):\n",
    "#     mapping = {\n",
    "#     # Main types\n",
    "#     \"Payload\": 1,\n",
    "#     \"Rocket Body\": 2,\n",
    "#     \"Debris\": 3,\n",
    "#     \"Other\": 4,\n",
    "\n",
    "#     # Payload variants\n",
    "#     \"Payload Debris\": 3,\n",
    "#     \"Payload Fragmentation Debris\": 3,\n",
    "#     \"Payload Mission Related Object\": 1,  # could argue for 4 instead\n",
    "\n",
    "#     # Rocket variants\n",
    "#     \"Rocket Debris\": 3,\n",
    "#     \"Rocket Fragmentation Debris\": 3,\n",
    "#     \"Rocket Mission Related Object\": 2,  # could also be \"Other\"\n",
    "    \n",
    "#     # Other junk\n",
    "#     \"Other Mission Related Object\": 4,\n",
    "#     \"Other Debris\": 3,\n",
    "    \n",
    "#     # Unknown fallback\n",
    "#     \"Unknown\": 0 }\n",
    "#     return mapping.get(objclass, np.nan)\n",
    "\n",
    "# dmass = []\n",
    "# dradius = []\n",
    "# dobj = []\n",
    "\n",
    "# for satid in tle_satnos:\n",
    "#     match = discos_df[discos_df[\"satno\"] == satid]\n",
    "#     if not match.empty:\n",
    "#         row = match.iloc[0]\n",
    "#         dmass.append(row[\"mass\"] if pd.notna(row.get(\"mass\")) else 0)\n",
    "#         if pd.notna(row.get(\"xSectAvg\")):\n",
    "#             dradius.append(np.sqrt(row[\"xSectAvg\"] / np.pi))\n",
    "#         else:\n",
    "#             dradius.append(np.nan)\n",
    "        \n",
    "#         #CHECK\n",
    "#         objclass_val = row.get(\"objectClass\")\n",
    "#         if objclass_val is None:\n",
    "#             print(f\"Missing objectClass for NORAD {satid}\")\n",
    "#         # print(\"not None\")\n",
    "            \n",
    "#         dobj.append(objclass2int(row.get(\"objectClass\")))\n",
    "#     elif satid in [53239, 54216]:  # special Chinese payloads\n",
    "#         dmass.append(0)\n",
    "#         dradius.append(np.nan)\n",
    "#         dobj.append(1)\n",
    "#     else:\n",
    "#         dmass.append(0)\n",
    "#         dradius.append(np.nan)\n",
    "#         dobj.append(np.nan)\n",
    "#         missing_satnos = np.append(missing_satnos, satid)\n",
    "        \n",
    "# dobj = np.array(dobj)\n",
    "# dmass = np.array(dmass)\n",
    "# dradius = np.array(dradius)\n"
   ]
  },
  {
   "cell_type": "code",
   "execution_count": null,
   "metadata": {},
   "outputs": [
    {
     "name": "stdout",
     "output_type": "stream",
     "text": [
      "17561\n"
     ]
    }
   ],
   "source": [
    "# num_nan_dobj = np.isnan(dobj).sum()\n",
    "# print(num_nan_dobj)"
   ]
  },
  {
   "cell_type": "code",
   "execution_count": null,
   "metadata": {},
   "outputs": [],
   "source": [
    "# # Already defined:\n",
    "# # tle_data            # your main TLE DataFrame (filtered & deduped)\n",
    "# # dmass, dradius, dobj  # arrays from your matching loop\n",
    "# # tle_satnos          # np.array of NORAD_CAT_ID from tle_data\n",
    "\n",
    "# R_EARTH_KM = 6378.137\n",
    "\n",
    "# def datetime_to_julian(dates):\n",
    "#     return dates.astype(\"datetime64[ns]\").view(\"int64\") / 86400000000000 + 2440587.5\n",
    "\n",
    "# launch_julian = datetime_to_julian(tle_data[\"LAUNCH_DATE\"])\n",
    "\n",
    "# N = len(merged_df)\n",
    "# zeros = np.zeros(N)\n",
    "# nans = np.full(N, np.nan)\n",
    "\n",
    "# from sklearn.preprocessing import LabelEncoder\n",
    "\n",
    "# le = LabelEncoder()\n",
    "# owner_codes = le.fit_transform(merged_df[\"OWNER\"].fillna(\"Unknown\"))\n",
    "\n",
    "# mat_sats = np.column_stack([\n",
    "#     merged_df[\"SEMIMAJOR_AXIS\"].values / R_EARTH_KM,\n",
    "#     merged_df[\"ECCENTRICITY\"].values,\n",
    "#     np.deg2rad(merged_df[\"INCLINATION\"].values),\n",
    "#     np.deg2rad(merged_df[\"RA_OF_ASC_NODE\"].values),\n",
    "#     np.deg2rad(merged_df[\"ARG_OF_PERICENTER\"].values),\n",
    "#     np.deg2rad(merged_df[\"MEAN_ANOMALY\"].values),\n",
    "#     merged_df[\"BSTAR\"].values,\n",
    "#     dmass,\n",
    "#     dradius,\n",
    "#     zeros, zeros, zeros, zeros, zeros, nans,\n",
    "#     launch_julian,\n",
    "#     zeros, zeros, zeros,\n",
    "#     zeros, zeros, zeros,\n",
    "#     dobj, # type of payload\n",
    "#     tle_satnos,\n",
    "#     owner_codes\n",
    "# ])\n"
   ]
  },
  {
   "cell_type": "code",
   "execution_count": null,
   "metadata": {},
   "outputs": [],
   "source": [
    "# from scipy.io import loadmat\n",
    "\n",
    "# mat_data = loadmat(\"2025.mat\")\n",
    "# mat_sats_matlab = mat_data[\"mat_sats\"]  # replace with correct variable name if needed\n"
   ]
  },
  {
   "cell_type": "code",
   "execution_count": null,
   "metadata": {},
   "outputs": [
    {
     "name": "stdout",
     "output_type": "stream",
     "text": [
      "MATLAB shape: (20622, 24)\n",
      "Python shape: (19607, 25)\n",
      "Row index: 13042\n",
      "Row values: [      1.3512       0.1842       0.5976       3.4881       1.0219\n",
      "       5.5539       0.0004       0.              nan       0.\n",
      "       0.           0.           0.           0.              nan\n",
      " 2436279.5          0.           0.           0.           0.\n",
      "       0.           0.              nan       5.          82.    ]\n"
     ]
    }
   ],
   "source": [
    "# print(\"MATLAB shape:\", mat_sats_matlab.shape)\n",
    "# print(\"Python shape:\", mat_sats.shape)\n",
    "\n",
    "# mat_sats[0]\n",
    "# # le.classes_[60]\n",
    "\n",
    "# row_index = np.where(mat_sats[:, 23] == 5)[0]\n",
    "\n",
    "# # Print the row if it exists\n",
    "# if len(row_index) > 0:\n",
    "#     print(\"Row index:\", row_index[0])\n",
    "#     print(\"Row values:\", mat_sats[row_index[0]])\n"
   ]
  },
  {
   "cell_type": "code",
   "execution_count": null,
   "metadata": {},
   "outputs": [
    {
     "name": "stdout",
     "output_type": "stream",
     "text": [
      "3186 IDs in Python mat_sats are missing from MATLAB mat_sats_matlab.\n",
      "Missing NORAD_CAT_IDs: [48547. 31440. 39552. ... 52014. 27769. 58664.]\n"
     ]
    }
   ],
   "source": [
    "\n",
    "# # Extract the ID column (index 23, 0-based) from both arrays\n",
    "# ids_python = mat_sats[:, 23]\n",
    "# ids_matlab = mat_sats_matlab[:, 23]\n",
    "\n",
    "# # Find IDs in Python that are missing in MATLAB\n",
    "# missing_ids = ids_python[~np.isin(ids_python, ids_matlab)]\n",
    "\n",
    "# print(f\"{len(missing_ids)} IDs in Python mat_sats are missing from MATLAB mat_sats_matlab.\")\n",
    "# if len(missing_ids) > 0:\n",
    "#     print(\"Missing NORAD_CAT_IDs:\", missing_ids)\n"
   ]
  },
  {
   "cell_type": "code",
   "execution_count": null,
   "metadata": {},
   "outputs": [
    {
     "data": {
      "text/plain": [
       "array([      1.3506,       0.1843,       0.5979,       1.3879,\n",
       "             4.5266,       1.3879,       0.0009,       1.46  ,\n",
       "             0.08  ,       0.    ,       0.    ,       0.    ,\n",
       "             0.    ,       0.    ,          nan, 2436279.5   ,\n",
       "             0.    ,       0.    ,       0.    ,       0.    ,\n",
       "             0.    ,       0.    ,      10.    ,       5.    ])"
      ]
     },
     "execution_count": 116,
     "metadata": {},
     "output_type": "execute_result"
    }
   ],
   "source": [
    "# mat_sats_matlab[0]"
   ]
  },
  {
   "cell_type": "code",
   "execution_count": null,
   "metadata": {},
   "outputs": [
    {
     "data": {
      "image/png": "[encoded data removed]",
      "text/plain": [
       "<Figure size 800x900 with 3 Axes>"
      ]
     },
     "metadata": {},
     "output_type": "display_data"
    }
   ],
   "source": [
    "# uobj = np.unique(dobj[~np.isnan(dobj)])  # skip NaNs\n",
    "\n",
    "# plt.figure(figsize=(8, len(uobj)*3))\n",
    "# for idx, obj_class in enumerate(uobj, 1):\n",
    "#     plt.subplot(len(uobj), 1, idx)\n",
    "#     plt.hist(dradius[np.where(dobj == obj_class)], bins=30)\n",
    "#     plt.title(f\"Object Class {int(obj_class)} - Radius Distribution\")\n",
    "#     plt.xlabel(\"Radius (m)\")\n",
    "#     plt.ylabel(\"Count\")\n",
    "\n",
    "# plt.tight_layout()\n",
    "# plt.show()\n"
   ]
  },
  {
   "cell_type": "code",
   "execution_count": null,
   "metadata": {},
   "outputs": [],
   "source": []
  },
  {
   "cell_type": "markdown",
   "metadata": {},
   "source": [
    "### Next:\n",
    "implement discosweb in python, then try to check 2023 and next Fast_MC2SSEM_population_v2.m\n",
    "\n"
   ]
  },
  {
   "cell_type": "code",
   "execution_count": null,
   "metadata": {},
   "outputs": [],
   "source": []
  },
  {
   "cell_type": "code",
   "execution_count": null,
   "metadata": {},
   "outputs": [],
   "source": []
  }
 ],
 "metadata": {
  "kernelspec": {
   "display_name": "anacondaEnv",
   "language": "python",
   "name": "python3"
  },
  "language_info": {
   "codemirror_mode": {
    "name": "ipython",
    "version": 3
   },
   "file_extension": ".py",
   "mimetype": "text/x-python",
   "name": "python",
   "nbconvert_exporter": "python",
   "pygments_lexer": "ipython3",
   "version": "3.8.19"
  }
 },
 "nbformat": 4,
 "nbformat_minor": 2
}
